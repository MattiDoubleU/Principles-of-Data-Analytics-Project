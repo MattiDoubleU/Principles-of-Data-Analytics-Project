{
 "cells": [
  {
   "cell_type": "markdown",
   "metadata": {},
   "source": [
    "# **Palmer Penguins**\n",
    "***\n",
    "\n",
    "<img src=\"https://allisonhorst.github.io/palmerpenguins/reference/figures/lter_penguins.png\" width=\"1000\" height=\"600\">\n",
    "\n",
    "\n",
    "This notebook contains my analysis of the famous palmer penguins dataset.\n",
    "\n",
    "The data set is available [on GitHub](https://allisonhorst.github.io/palmerpenguins/).\n"
   ]
  },
  {
   "cell_type": "markdown",
   "metadata": {},
   "source": [
    "# Table of content\n",
    "\n",
    "to be added.\n"
   ]
  },
  {
   "cell_type": "markdown",
   "metadata": {},
   "source": [
    "## 1. About the data.\n",
    "\n",
    "Data were collected and made available by Dr. Kristen Gorman and the Palmer Station, Antarctica LTER, a member of the Long Term Ecological Research Network. \n",
    "The goal of [palmerpenguins](https://allisonhorst.github.io/palmerpenguins/) is to provide a great dataset for data exploration & visualization, as an alternative to Iris.\n"
   ]
  },
  {
   "cell_type": "markdown",
   "metadata": {},
   "source": [
    "**1.1 Disclaimer:** I used ChatGPT to generate ideas and sketches of the content of the following notebook. The notebook is mainly my work, my own work as ChatGPT sometimes suggested clearly incorrect ideas, and in any case I had to rework the code and text it generated to meet my own needs. Also, I recycled some code as well as this disclaimer and ideas from the 'Iris' notebook we have elaborated during a series of lectures of the Principle of Data Analytics module."
   ]
  },
  {
   "cell_type": "markdown",
   "metadata": {},
   "source": [
    "## 2. Imported libraries and modules."
   ]
  },
  {
   "cell_type": "code",
   "execution_count": 110,
   "metadata": {},
   "outputs": [],
   "source": [
    "# Data frames.\n",
    "import pandas as pd\n",
    "\n",
    "# Plotting.\n",
    "import seaborn as sns\n",
    "import matplotlib.pyplot as plt\n",
    "\n",
    "# Numerical arrays.\n",
    "import numpy as np\n"
   ]
  },
  {
   "cell_type": "markdown",
   "metadata": {},
   "source": [
    "### 2.1 Load the penguins data set."
   ]
  },
  {
   "cell_type": "code",
   "execution_count": 111,
   "metadata": {},
   "outputs": [],
   "source": [
    "# Load the penguins data set.\n",
    "\n",
    "df = pd.read_csv(\"https://raw.githubusercontent.com/mwaskom/seaborn-data/master/penguins.csv\")\n"
   ]
  },
  {
   "cell_type": "markdown",
   "metadata": {},
   "source": [
    "## 3. Data frame and determination of available variables."
   ]
  },
  {
   "cell_type": "code",
   "execution_count": 112,
   "metadata": {},
   "outputs": [
    {
     "data": {
      "text/html": [
       "<div>\n",
       "<style scoped>\n",
       "    .dataframe tbody tr th:only-of-type {\n",
       "        vertical-align: middle;\n",
       "    }\n",
       "\n",
       "    .dataframe tbody tr th {\n",
       "        vertical-align: top;\n",
       "    }\n",
       "\n",
       "    .dataframe thead th {\n",
       "        text-align: right;\n",
       "    }\n",
       "</style>\n",
       "<table border=\"1\" class=\"dataframe\">\n",
       "  <thead>\n",
       "    <tr style=\"text-align: right;\">\n",
       "      <th></th>\n",
       "      <th>species</th>\n",
       "      <th>island</th>\n",
       "      <th>bill_length_mm</th>\n",
       "      <th>bill_depth_mm</th>\n",
       "      <th>flipper_length_mm</th>\n",
       "      <th>body_mass_g</th>\n",
       "      <th>sex</th>\n",
       "    </tr>\n",
       "  </thead>\n",
       "  <tbody>\n",
       "    <tr>\n",
       "      <th>0</th>\n",
       "      <td>Adelie</td>\n",
       "      <td>Torgersen</td>\n",
       "      <td>39.1</td>\n",
       "      <td>18.7</td>\n",
       "      <td>181.0</td>\n",
       "      <td>3750.0</td>\n",
       "      <td>MALE</td>\n",
       "    </tr>\n",
       "    <tr>\n",
       "      <th>1</th>\n",
       "      <td>Adelie</td>\n",
       "      <td>Torgersen</td>\n",
       "      <td>39.5</td>\n",
       "      <td>17.4</td>\n",
       "      <td>186.0</td>\n",
       "      <td>3800.0</td>\n",
       "      <td>FEMALE</td>\n",
       "    </tr>\n",
       "    <tr>\n",
       "      <th>2</th>\n",
       "      <td>Adelie</td>\n",
       "      <td>Torgersen</td>\n",
       "      <td>40.3</td>\n",
       "      <td>18.0</td>\n",
       "      <td>195.0</td>\n",
       "      <td>3250.0</td>\n",
       "      <td>FEMALE</td>\n",
       "    </tr>\n",
       "    <tr>\n",
       "      <th>3</th>\n",
       "      <td>Adelie</td>\n",
       "      <td>Torgersen</td>\n",
       "      <td>NaN</td>\n",
       "      <td>NaN</td>\n",
       "      <td>NaN</td>\n",
       "      <td>NaN</td>\n",
       "      <td>NaN</td>\n",
       "    </tr>\n",
       "    <tr>\n",
       "      <th>4</th>\n",
       "      <td>Adelie</td>\n",
       "      <td>Torgersen</td>\n",
       "      <td>36.7</td>\n",
       "      <td>19.3</td>\n",
       "      <td>193.0</td>\n",
       "      <td>3450.0</td>\n",
       "      <td>FEMALE</td>\n",
       "    </tr>\n",
       "    <tr>\n",
       "      <th>...</th>\n",
       "      <td>...</td>\n",
       "      <td>...</td>\n",
       "      <td>...</td>\n",
       "      <td>...</td>\n",
       "      <td>...</td>\n",
       "      <td>...</td>\n",
       "      <td>...</td>\n",
       "    </tr>\n",
       "    <tr>\n",
       "      <th>339</th>\n",
       "      <td>Gentoo</td>\n",
       "      <td>Biscoe</td>\n",
       "      <td>NaN</td>\n",
       "      <td>NaN</td>\n",
       "      <td>NaN</td>\n",
       "      <td>NaN</td>\n",
       "      <td>NaN</td>\n",
       "    </tr>\n",
       "    <tr>\n",
       "      <th>340</th>\n",
       "      <td>Gentoo</td>\n",
       "      <td>Biscoe</td>\n",
       "      <td>46.8</td>\n",
       "      <td>14.3</td>\n",
       "      <td>215.0</td>\n",
       "      <td>4850.0</td>\n",
       "      <td>FEMALE</td>\n",
       "    </tr>\n",
       "    <tr>\n",
       "      <th>341</th>\n",
       "      <td>Gentoo</td>\n",
       "      <td>Biscoe</td>\n",
       "      <td>50.4</td>\n",
       "      <td>15.7</td>\n",
       "      <td>222.0</td>\n",
       "      <td>5750.0</td>\n",
       "      <td>MALE</td>\n",
       "    </tr>\n",
       "    <tr>\n",
       "      <th>342</th>\n",
       "      <td>Gentoo</td>\n",
       "      <td>Biscoe</td>\n",
       "      <td>45.2</td>\n",
       "      <td>14.8</td>\n",
       "      <td>212.0</td>\n",
       "      <td>5200.0</td>\n",
       "      <td>FEMALE</td>\n",
       "    </tr>\n",
       "    <tr>\n",
       "      <th>343</th>\n",
       "      <td>Gentoo</td>\n",
       "      <td>Biscoe</td>\n",
       "      <td>49.9</td>\n",
       "      <td>16.1</td>\n",
       "      <td>213.0</td>\n",
       "      <td>5400.0</td>\n",
       "      <td>MALE</td>\n",
       "    </tr>\n",
       "  </tbody>\n",
       "</table>\n",
       "<p>344 rows × 7 columns</p>\n",
       "</div>"
      ],
      "text/plain": [
       "    species     island  bill_length_mm  bill_depth_mm  flipper_length_mm  \\\n",
       "0    Adelie  Torgersen            39.1           18.7              181.0   \n",
       "1    Adelie  Torgersen            39.5           17.4              186.0   \n",
       "2    Adelie  Torgersen            40.3           18.0              195.0   \n",
       "3    Adelie  Torgersen             NaN            NaN                NaN   \n",
       "4    Adelie  Torgersen            36.7           19.3              193.0   \n",
       "..      ...        ...             ...            ...                ...   \n",
       "339  Gentoo     Biscoe             NaN            NaN                NaN   \n",
       "340  Gentoo     Biscoe            46.8           14.3              215.0   \n",
       "341  Gentoo     Biscoe            50.4           15.7              222.0   \n",
       "342  Gentoo     Biscoe            45.2           14.8              212.0   \n",
       "343  Gentoo     Biscoe            49.9           16.1              213.0   \n",
       "\n",
       "     body_mass_g     sex  \n",
       "0         3750.0    MALE  \n",
       "1         3800.0  FEMALE  \n",
       "2         3250.0  FEMALE  \n",
       "3            NaN     NaN  \n",
       "4         3450.0  FEMALE  \n",
       "..           ...     ...  \n",
       "339          NaN     NaN  \n",
       "340       4850.0  FEMALE  \n",
       "341       5750.0    MALE  \n",
       "342       5200.0  FEMALE  \n",
       "343       5400.0    MALE  \n",
       "\n",
       "[344 rows x 7 columns]"
      ]
     },
     "execution_count": 112,
     "metadata": {},
     "output_type": "execute_result"
    }
   ],
   "source": [
    "# Let's have a look.\n",
    "df"
   ]
  },
  {
   "cell_type": "markdown",
   "metadata": {},
   "source": [
    "Before being able to carry out an analysis of the data set, the following variables are available: Species, island, bill length & depth, flipper length, body mass and sex."
   ]
  },
  {
   "cell_type": "markdown",
   "metadata": {},
   "source": [
    "### 3.1 Overview and taking the data apart\n",
    "Looking at the first 20 rows and at the head and tail of the table."
   ]
  },
  {
   "cell_type": "code",
   "execution_count": 113,
   "metadata": {},
   "outputs": [
    {
     "name": "stdout",
     "output_type": "stream",
     "text": [
      "First 20 rows:\n",
      "   species     island  bill_length_mm  bill_depth_mm  flipper_length_mm  \\\n",
      "0   Adelie  Torgersen            39.1           18.7              181.0   \n",
      "1   Adelie  Torgersen            39.5           17.4              186.0   \n",
      "2   Adelie  Torgersen            40.3           18.0              195.0   \n",
      "3   Adelie  Torgersen             NaN            NaN                NaN   \n",
      "4   Adelie  Torgersen            36.7           19.3              193.0   \n",
      "5   Adelie  Torgersen            39.3           20.6              190.0   \n",
      "6   Adelie  Torgersen            38.9           17.8              181.0   \n",
      "7   Adelie  Torgersen            39.2           19.6              195.0   \n",
      "8   Adelie  Torgersen            34.1           18.1              193.0   \n",
      "9   Adelie  Torgersen            42.0           20.2              190.0   \n",
      "10  Adelie  Torgersen            37.8           17.1              186.0   \n",
      "11  Adelie  Torgersen            37.8           17.3              180.0   \n",
      "12  Adelie  Torgersen            41.1           17.6              182.0   \n",
      "13  Adelie  Torgersen            38.6           21.2              191.0   \n",
      "14  Adelie  Torgersen            34.6           21.1              198.0   \n",
      "15  Adelie  Torgersen            36.6           17.8              185.0   \n",
      "16  Adelie  Torgersen            38.7           19.0              195.0   \n",
      "17  Adelie  Torgersen            42.5           20.7              197.0   \n",
      "18  Adelie  Torgersen            34.4           18.4              184.0   \n",
      "\n",
      "    body_mass_g     sex  \n",
      "0        3750.0    MALE  \n",
      "1        3800.0  FEMALE  \n",
      "2        3250.0  FEMALE  \n",
      "3           NaN     NaN  \n",
      "4        3450.0  FEMALE  \n",
      "5        3650.0    MALE  \n",
      "6        3625.0  FEMALE  \n",
      "7        4675.0    MALE  \n",
      "8        3475.0     NaN  \n",
      "9        4250.0     NaN  \n",
      "10       3300.0     NaN  \n",
      "11       3700.0     NaN  \n",
      "12       3200.0  FEMALE  \n",
      "13       3800.0    MALE  \n",
      "14       4400.0    MALE  \n",
      "15       3700.0  FEMALE  \n",
      "16       3450.0  FEMALE  \n",
      "17       4500.0    MALE  \n",
      "18       3325.0  FEMALE  \n",
      "\n",
      "\n",
      "\\First few rows:\n",
      "  species     island  bill_length_mm  bill_depth_mm  flipper_length_mm  \\\n",
      "0  Adelie  Torgersen            39.1           18.7              181.0   \n",
      "1  Adelie  Torgersen            39.5           17.4              186.0   \n",
      "2  Adelie  Torgersen            40.3           18.0              195.0   \n",
      "3  Adelie  Torgersen             NaN            NaN                NaN   \n",
      "4  Adelie  Torgersen            36.7           19.3              193.0   \n",
      "\n",
      "   body_mass_g     sex  \n",
      "0       3750.0    MALE  \n",
      "1       3800.0  FEMALE  \n",
      "2       3250.0  FEMALE  \n",
      "3          NaN     NaN  \n",
      "4       3450.0  FEMALE  \n",
      "\n",
      "\n",
      "\\Last few rows:\n",
      "    species  island  bill_length_mm  bill_depth_mm  flipper_length_mm  \\\n",
      "339  Gentoo  Biscoe             NaN            NaN                NaN   \n",
      "340  Gentoo  Biscoe            46.8           14.3              215.0   \n",
      "341  Gentoo  Biscoe            50.4           15.7              222.0   \n",
      "342  Gentoo  Biscoe            45.2           14.8              212.0   \n",
      "343  Gentoo  Biscoe            49.9           16.1              213.0   \n",
      "\n",
      "     body_mass_g     sex  \n",
      "339          NaN     NaN  \n",
      "340       4850.0  FEMALE  \n",
      "341       5750.0    MALE  \n",
      "342       5200.0  FEMALE  \n",
      "343       5400.0    MALE  \n"
     ]
    }
   ],
   "source": [
    "# Display the first 30 rows using iloc.\n",
    "print(\"First 20 rows:\")\n",
    "print(df.iloc[0:19])\n",
    "\n",
    "# Display the first few rows using head.\n",
    "print(\"\\n\\n\\First few rows:\")\n",
    "print(df.head())\n",
    "\n",
    "# Display the last few rows using tail.\n",
    "print(\"\\n\\n\\Last few rows:\")\n",
    "print(df.tail())\n",
    "\n"
   ]
  },
  {
   "cell_type": "markdown",
   "metadata": {},
   "source": [
    "We learn that a total of 344 samples were collected. Please note that we are starting 0, therefore the last number is 343. However, there are some lines that identify with 'NaN' (not a number); basically a numerical value for the variable is missing or has not been assessed. So let's have a look How many penguins don't have their sex determined for example?"
   ]
  },
  {
   "cell_type": "markdown",
   "metadata": {},
   "source": [
    "### 3.2 Number of occurences of each sex."
   ]
  },
  {
   "cell_type": "code",
   "execution_count": 114,
   "metadata": {},
   "outputs": [
    {
     "name": "stdout",
     "output_type": "stream",
     "text": [
      "Of 344 total penguins, 11 don't have their sex determined.\n"
     ]
    }
   ],
   "source": [
    "# Count the number of occurrences of each sex, including NA values\n",
    "sex_counts = df['sex'].value_counts(dropna=False) # If dropna=False, NaN values are included in the count. They are treated as a separate category and included in the result of value_counts().\n",
    "\n",
    "# Extract the total count of penguins\n",
    "total_penguins = sex_counts.sum()\n",
    "\n",
    "# Extract the count of penguins with undetermined sex (NA values)\n",
    "undetermined_sex_count = sex_counts.get(float('nan'), 0)\n",
    "\n",
    "# Calculate the count of penguins with determined sex\n",
    "determined_sex_count = total_penguins - undetermined_sex_count\n",
    "\n",
    "print(f\"Of {total_penguins} total penguins, {undetermined_sex_count} don't have their sex determined.\")\n",
    "\n"
   ]
  },
  {
   "cell_type": "markdown",
   "metadata": {},
   "source": [
    "Since we only looked at the head & tail of the data set, why not have a look at on how many islands the data was collected?"
   ]
  },
  {
   "cell_type": "markdown",
   "metadata": {},
   "source": [
    "## 4. Islands."
   ]
  },
  {
   "cell_type": "code",
   "execution_count": 115,
   "metadata": {},
   "outputs": [
    {
     "data": {
      "text/plain": [
       "0      Torgersen\n",
       "1      Torgersen\n",
       "2      Torgersen\n",
       "3      Torgersen\n",
       "4      Torgersen\n",
       "         ...    \n",
       "339       Biscoe\n",
       "340       Biscoe\n",
       "341       Biscoe\n",
       "342       Biscoe\n",
       "343       Biscoe\n",
       "Name: island, Length: 344, dtype: object"
      ]
     },
     "execution_count": 115,
     "metadata": {},
     "output_type": "execute_result"
    }
   ],
   "source": [
    "# Islands.\n",
    "df['island']"
   ]
  },
  {
   "cell_type": "code",
   "execution_count": 116,
   "metadata": {},
   "outputs": [
    {
     "name": "stdout",
     "output_type": "stream",
     "text": [
      "Number of islands: 3\n"
     ]
    }
   ],
   "source": [
    "# Count of islands.\n",
    "island_counts = df['island'].value_counts()\n",
    "number_of_islands = len(island_counts)\n",
    "\n",
    "print(\"Number of islands:\", number_of_islands)\n",
    "\n"
   ]
  },
  {
   "cell_type": "markdown",
   "metadata": {},
   "source": [
    "Data was collected on three islands: Torgersen, Dream & Biscoe."
   ]
  },
  {
   "cell_type": "markdown",
   "metadata": {},
   "source": [
    "### 4.1 Number and sex on each island."
   ]
  },
  {
   "cell_type": "code",
   "execution_count": 117,
   "metadata": {},
   "outputs": [
    {
     "name": "stdout",
     "output_type": "stream",
     "text": [
      "Number and sex on each island:\n",
      "      island     sex  count\n",
      "0     Biscoe  FEMALE     80\n",
      "1     Biscoe    MALE     83\n",
      "2      Dream  FEMALE     61\n",
      "3      Dream    MALE     62\n",
      "4  Torgersen  FEMALE     24\n",
      "5  Torgersen    MALE     23\n"
     ]
    }
   ],
   "source": [
    "# Group the DataFrame by 'island' and 'sex', then count the number of occurrences of each combination. This code was proposed by ChatGPT.\n",
    "island_sex_counts = df.groupby(['island', 'sex']).size().reset_index(name='count')\n",
    "\n",
    "print(\"Number and sex on each island:\")\n",
    "print(island_sex_counts)"
   ]
  },
  {
   "cell_type": "markdown",
   "metadata": {},
   "source": [
    "### 4.2 Number of penguins of each set."
   ]
  },
  {
   "cell_type": "code",
   "execution_count": 118,
   "metadata": {},
   "outputs": [
    {
     "data": {
      "text/plain": [
       "sex\n",
       "MALE      168\n",
       "FEMALE    165\n",
       "Name: count, dtype: int64"
      ]
     },
     "execution_count": 118,
     "metadata": {},
     "output_type": "execute_result"
    }
   ],
   "source": [
    "# Count the number of penguins of each set.\n",
    "df['sex'].value_counts()"
   ]
  },
  {
   "cell_type": "markdown",
   "metadata": {},
   "source": [
    "### 4.3 Let's summarize the analysis so far:\n",
    "- A total of 344 samples were collected on 3 different islands: Torgersen, Biscoe and Dream. \n",
    "- Samples were taken from 3 different penguin species: Adelie, Gentoo and Chinstrap. \n",
    "- Of 344 penguins, 11 don't have their sex determined, 168 are male and 165 are female. \n",
    "- The majority of samples was taken on Biscoe island, then Dream and least samples were collected on Torgersen island. "
   ]
  },
  {
   "cell_type": "markdown",
   "metadata": {},
   "source": [
    "## 5. Data types.\n",
    "An important part of any analysis of a dataset is to establish the types of the different variables."
   ]
  },
  {
   "cell_type": "markdown",
   "metadata": {},
   "source": [
    "### 5.1 Inspect."
   ]
  },
  {
   "cell_type": "code",
   "execution_count": 119,
   "metadata": {},
   "outputs": [
    {
     "data": {
      "text/plain": [
       "species               object\n",
       "island                object\n",
       "bill_length_mm       float64\n",
       "bill_depth_mm        float64\n",
       "flipper_length_mm    float64\n",
       "body_mass_g          float64\n",
       "sex                   object\n",
       "dtype: object"
      ]
     },
     "execution_count": 119,
     "metadata": {},
     "output_type": "execute_result"
    }
   ],
   "source": [
    "# Inspect (Types).\n",
    "df.dtypes"
   ]
  },
  {
   "cell_type": "markdown",
   "metadata": {},
   "source": [
    "Two types of data can be identified: object & float64."
   ]
  },
  {
   "cell_type": "markdown",
   "metadata": {},
   "source": [
    "## 6. Numeric values.\n",
    "df.describe() basically gives a summary of the numeric values in the palmer penguins dataset:"
   ]
  },
  {
   "cell_type": "code",
   "execution_count": 120,
   "metadata": {},
   "outputs": [
    {
     "data": {
      "text/html": [
       "<div>\n",
       "<style scoped>\n",
       "    .dataframe tbody tr th:only-of-type {\n",
       "        vertical-align: middle;\n",
       "    }\n",
       "\n",
       "    .dataframe tbody tr th {\n",
       "        vertical-align: top;\n",
       "    }\n",
       "\n",
       "    .dataframe thead th {\n",
       "        text-align: right;\n",
       "    }\n",
       "</style>\n",
       "<table border=\"1\" class=\"dataframe\">\n",
       "  <thead>\n",
       "    <tr style=\"text-align: right;\">\n",
       "      <th></th>\n",
       "      <th>bill_length_mm</th>\n",
       "      <th>bill_depth_mm</th>\n",
       "      <th>flipper_length_mm</th>\n",
       "      <th>body_mass_g</th>\n",
       "    </tr>\n",
       "  </thead>\n",
       "  <tbody>\n",
       "    <tr>\n",
       "      <th>count</th>\n",
       "      <td>342.000000</td>\n",
       "      <td>342.000000</td>\n",
       "      <td>342.000000</td>\n",
       "      <td>342.000000</td>\n",
       "    </tr>\n",
       "    <tr>\n",
       "      <th>mean</th>\n",
       "      <td>43.921930</td>\n",
       "      <td>17.151170</td>\n",
       "      <td>200.915205</td>\n",
       "      <td>4201.754386</td>\n",
       "    </tr>\n",
       "    <tr>\n",
       "      <th>std</th>\n",
       "      <td>5.459584</td>\n",
       "      <td>1.974793</td>\n",
       "      <td>14.061714</td>\n",
       "      <td>801.954536</td>\n",
       "    </tr>\n",
       "    <tr>\n",
       "      <th>min</th>\n",
       "      <td>32.100000</td>\n",
       "      <td>13.100000</td>\n",
       "      <td>172.000000</td>\n",
       "      <td>2700.000000</td>\n",
       "    </tr>\n",
       "    <tr>\n",
       "      <th>25%</th>\n",
       "      <td>39.225000</td>\n",
       "      <td>15.600000</td>\n",
       "      <td>190.000000</td>\n",
       "      <td>3550.000000</td>\n",
       "    </tr>\n",
       "    <tr>\n",
       "      <th>50%</th>\n",
       "      <td>44.450000</td>\n",
       "      <td>17.300000</td>\n",
       "      <td>197.000000</td>\n",
       "      <td>4050.000000</td>\n",
       "    </tr>\n",
       "    <tr>\n",
       "      <th>75%</th>\n",
       "      <td>48.500000</td>\n",
       "      <td>18.700000</td>\n",
       "      <td>213.000000</td>\n",
       "      <td>4750.000000</td>\n",
       "    </tr>\n",
       "    <tr>\n",
       "      <th>max</th>\n",
       "      <td>59.600000</td>\n",
       "      <td>21.500000</td>\n",
       "      <td>231.000000</td>\n",
       "      <td>6300.000000</td>\n",
       "    </tr>\n",
       "  </tbody>\n",
       "</table>\n",
       "</div>"
      ],
      "text/plain": [
       "       bill_length_mm  bill_depth_mm  flipper_length_mm  body_mass_g\n",
       "count      342.000000     342.000000         342.000000   342.000000\n",
       "mean        43.921930      17.151170         200.915205  4201.754386\n",
       "std          5.459584       1.974793          14.061714   801.954536\n",
       "min         32.100000      13.100000         172.000000  2700.000000\n",
       "25%         39.225000      15.600000         190.000000  3550.000000\n",
       "50%         44.450000      17.300000         197.000000  4050.000000\n",
       "75%         48.500000      18.700000         213.000000  4750.000000\n",
       "max         59.600000      21.500000         231.000000  6300.000000"
      ]
     },
     "execution_count": 120,
     "metadata": {},
     "output_type": "execute_result"
    }
   ],
   "source": [
    "# Describe the data set.\n",
    "df.describe()\n"
   ]
  },
  {
   "cell_type": "markdown",
   "metadata": {},
   "source": [
    "- Count of variables in the dataset which can point out to any possible missing values. \n",
    "- Calculates mean, standard deviation, minimum and maximum value.\n",
    "- 1st, 2nd and 3rd percentile of the columns with numeric value.\n",
    "\n",
    "Please refer to [Generate descriptive statistics](https://pandas.pydata.org/pandas-docs/stable/reference/api/pandas.DataFrame.describe.html). "
   ]
  },
  {
   "cell_type": "markdown",
   "metadata": {},
   "source": [
    "## 7. Numpy arrays.\n",
    "Now that we have all the variables listed we are going to look at them individually what means we are separately getting the values and numpy array for each:"
   ]
  },
  {
   "cell_type": "markdown",
   "metadata": {},
   "source": [
    "### 7.1 Flipper length in mm."
   ]
  },
  {
   "cell_type": "code",
   "execution_count": 121,
   "metadata": {},
   "outputs": [
    {
     "name": "stdout",
     "output_type": "stream",
     "text": [
      "0      181.0\n",
      "1      186.0\n",
      "2      195.0\n",
      "3        NaN\n",
      "4      193.0\n",
      "       ...  \n",
      "339      NaN\n",
      "340    215.0\n",
      "341    222.0\n",
      "342    212.0\n",
      "343    213.0\n",
      "Name: flipper_length_mm, Length: 344, dtype: float64\n",
      "<class 'pandas.core.series.Series'>\n"
     ]
    }
   ],
   "source": [
    "# Get the flipper lengths.\n",
    "flen = df['flipper_length_mm']\n",
    "\n",
    "# Show.\n",
    "print(flen)\n",
    "\n",
    "# Type.\n",
    "print(type(flen))"
   ]
  },
  {
   "cell_type": "code",
   "execution_count": 122,
   "metadata": {},
   "outputs": [
    {
     "data": {
      "text/plain": [
       "array([181., 186., 195.,  nan, 193., 190., 181., 195., 193., 190., 186.,\n",
       "       180., 182., 191., 198., 185., 195., 197., 184., 194., 174., 180.,\n",
       "       189., 185., 180., 187., 183., 187., 172., 180., 178., 178., 188.,\n",
       "       184., 195., 196., 190., 180., 181., 184., 182., 195., 186., 196.,\n",
       "       185., 190., 182., 179., 190., 191., 186., 188., 190., 200., 187.,\n",
       "       191., 186., 193., 181., 194., 185., 195., 185., 192., 184., 192.,\n",
       "       195., 188., 190., 198., 190., 190., 196., 197., 190., 195., 191.,\n",
       "       184., 187., 195., 189., 196., 187., 193., 191., 194., 190., 189.,\n",
       "       189., 190., 202., 205., 185., 186., 187., 208., 190., 196., 178.,\n",
       "       192., 192., 203., 183., 190., 193., 184., 199., 190., 181., 197.,\n",
       "       198., 191., 193., 197., 191., 196., 188., 199., 189., 189., 187.,\n",
       "       198., 176., 202., 186., 199., 191., 195., 191., 210., 190., 197.,\n",
       "       193., 199., 187., 190., 191., 200., 185., 193., 193., 187., 188.,\n",
       "       190., 192., 185., 190., 184., 195., 193., 187., 201., 192., 196.,\n",
       "       193., 188., 197., 198., 178., 197., 195., 198., 193., 194., 185.,\n",
       "       201., 190., 201., 197., 181., 190., 195., 181., 191., 187., 193.,\n",
       "       195., 197., 200., 200., 191., 205., 187., 201., 187., 203., 195.,\n",
       "       199., 195., 210., 192., 205., 210., 187., 196., 196., 196., 201.,\n",
       "       190., 212., 187., 198., 199., 201., 193., 203., 187., 197., 191.,\n",
       "       203., 202., 194., 206., 189., 195., 207., 202., 193., 210., 198.,\n",
       "       211., 230., 210., 218., 215., 210., 211., 219., 209., 215., 214.,\n",
       "       216., 214., 213., 210., 217., 210., 221., 209., 222., 218., 215.,\n",
       "       213., 215., 215., 215., 216., 215., 210., 220., 222., 209., 207.,\n",
       "       230., 220., 220., 213., 219., 208., 208., 208., 225., 210., 216.,\n",
       "       222., 217., 210., 225., 213., 215., 210., 220., 210., 225., 217.,\n",
       "       220., 208., 220., 208., 224., 208., 221., 214., 231., 219., 230.,\n",
       "       214., 229., 220., 223., 216., 221., 221., 217., 216., 230., 209.,\n",
       "       220., 215., 223., 212., 221., 212., 224., 212., 228., 218., 218.,\n",
       "       212., 230., 218., 228., 212., 224., 214., 226., 216., 222., 203.,\n",
       "       225., 219., 228., 215., 228., 216., 215., 210., 219., 208., 209.,\n",
       "       216., 229., 213., 230., 217., 230., 217., 222., 214.,  nan, 215.,\n",
       "       222., 212., 213.])"
      ]
     },
     "execution_count": 122,
     "metadata": {},
     "output_type": "execute_result"
    }
   ],
   "source": [
    "# Just get the numpy array.\n",
    "flen = flen.to_numpy()\n",
    "\n",
    "# Show.\n",
    "flen"
   ]
  },
  {
   "cell_type": "markdown",
   "metadata": {},
   "source": [
    "### 7.2 Bill length in mm."
   ]
  },
  {
   "cell_type": "code",
   "execution_count": 123,
   "metadata": {},
   "outputs": [
    {
     "name": "stdout",
     "output_type": "stream",
     "text": [
      "[39.1 39.5 40.3  nan 36.7 39.3 38.9 39.2 34.1 42.  37.8 37.8 41.1 38.6\n",
      " 34.6 36.6 38.7 42.5 34.4 46.  37.8 37.7 35.9 38.2 38.8 35.3 40.6 40.5\n",
      " 37.9 40.5 39.5 37.2 39.5 40.9 36.4 39.2 38.8 42.2 37.6 39.8 36.5 40.8\n",
      " 36.  44.1 37.  39.6 41.1 37.5 36.  42.3 39.6 40.1 35.  42.  34.5 41.4\n",
      " 39.  40.6 36.5 37.6 35.7 41.3 37.6 41.1 36.4 41.6 35.5 41.1 35.9 41.8\n",
      " 33.5 39.7 39.6 45.8 35.5 42.8 40.9 37.2 36.2 42.1 34.6 42.9 36.7 35.1\n",
      " 37.3 41.3 36.3 36.9 38.3 38.9 35.7 41.1 34.  39.6 36.2 40.8 38.1 40.3\n",
      " 33.1 43.2 35.  41.  37.7 37.8 37.9 39.7 38.6 38.2 38.1 43.2 38.1 45.6\n",
      " 39.7 42.2 39.6 42.7 38.6 37.3 35.7 41.1 36.2 37.7 40.2 41.4 35.2 40.6\n",
      " 38.8 41.5 39.  44.1 38.5 43.1 36.8 37.5 38.1 41.1 35.6 40.2 37.  39.7\n",
      " 40.2 40.6 32.1 40.7 37.3 39.  39.2 36.6 36.  37.8 36.  41.5 46.5 50.\n",
      " 51.3 45.4 52.7 45.2 46.1 51.3 46.  51.3 46.6 51.7 47.  52.  45.9 50.5\n",
      " 50.3 58.  46.4 49.2 42.4 48.5 43.2 50.6 46.7 52.  50.5 49.5 46.4 52.8\n",
      " 40.9 54.2 42.5 51.  49.7 47.5 47.6 52.  46.9 53.5 49.  46.2 50.9 45.5\n",
      " 50.9 50.8 50.1 49.  51.5 49.8 48.1 51.4 45.7 50.7 42.5 52.2 45.2 49.3\n",
      " 50.2 45.6 51.9 46.8 45.7 55.8 43.5 49.6 50.8 50.2 46.1 50.  48.7 50.\n",
      " 47.6 46.5 45.4 46.7 43.3 46.8 40.9 49.  45.5 48.4 45.8 49.3 42.  49.2\n",
      " 46.2 48.7 50.2 45.1 46.5 46.3 42.9 46.1 44.5 47.8 48.2 50.  47.3 42.8\n",
      " 45.1 59.6 49.1 48.4 42.6 44.4 44.  48.7 42.7 49.6 45.3 49.6 50.5 43.6\n",
      " 45.5 50.5 44.9 45.2 46.6 48.5 45.1 50.1 46.5 45.  43.8 45.5 43.2 50.4\n",
      " 45.3 46.2 45.7 54.3 45.8 49.8 46.2 49.5 43.5 50.7 47.7 46.4 48.2 46.5\n",
      " 46.4 48.6 47.5 51.1 45.2 45.2 49.1 52.5 47.4 50.  44.9 50.8 43.4 51.3\n",
      " 47.5 52.1 47.5 52.2 45.5 49.5 44.5 50.8 49.4 46.9 48.4 51.1 48.5 55.9\n",
      " 47.2 49.1 47.3 46.8 41.7 53.4 43.3 48.1 50.5 49.8 43.5 51.5 46.2 55.1\n",
      " 44.5 48.8 47.2  nan 46.8 50.4 45.2 49.9]\n",
      "<class 'numpy.ndarray'>\n"
     ]
    }
   ],
   "source": [
    "# Get the bill length\n",
    "blength = df['bill_length_mm'].to_numpy()\n",
    "\n",
    "# Show.\n",
    "print(blength)\n",
    "\n",
    "# Type\n",
    "print(type(blength))"
   ]
  },
  {
   "cell_type": "markdown",
   "metadata": {},
   "source": [
    "### 7.3 Bill depth in mm."
   ]
  },
  {
   "cell_type": "code",
   "execution_count": 124,
   "metadata": {},
   "outputs": [
    {
     "name": "stdout",
     "output_type": "stream",
     "text": [
      "0      18.7\n",
      "1      17.4\n",
      "2      18.0\n",
      "3       NaN\n",
      "4      19.3\n",
      "       ... \n",
      "339     NaN\n",
      "340    14.3\n",
      "341    15.7\n",
      "342    14.8\n",
      "343    16.1\n",
      "Name: bill_depth_mm, Length: 344, dtype: float64\n",
      "<class 'pandas.core.series.Series'>\n"
     ]
    }
   ],
   "source": [
    "# Get the bill depth.\n",
    "bdepth = df['bill_depth_mm']\n",
    "\n",
    "# Show.\n",
    "print(bdepth)\n",
    "\n",
    "# Type.\n",
    "print(type(bdepth))\n"
   ]
  },
  {
   "cell_type": "code",
   "execution_count": 125,
   "metadata": {},
   "outputs": [
    {
     "data": {
      "text/plain": [
       "array([18.7, 17.4, 18. ,  nan, 19.3, 20.6, 17.8, 19.6, 18.1, 20.2, 17.1,\n",
       "       17.3, 17.6, 21.2, 21.1, 17.8, 19. , 20.7, 18.4, 21.5, 18.3, 18.7,\n",
       "       19.2, 18.1, 17.2, 18.9, 18.6, 17.9, 18.6, 18.9, 16.7, 18.1, 17.8,\n",
       "       18.9, 17. , 21.1, 20. , 18.5, 19.3, 19.1, 18. , 18.4, 18.5, 19.7,\n",
       "       16.9, 18.8, 19. , 18.9, 17.9, 21.2, 17.7, 18.9, 17.9, 19.5, 18.1,\n",
       "       18.6, 17.5, 18.8, 16.6, 19.1, 16.9, 21.1, 17. , 18.2, 17.1, 18. ,\n",
       "       16.2, 19.1, 16.6, 19.4, 19. , 18.4, 17.2, 18.9, 17.5, 18.5, 16.8,\n",
       "       19.4, 16.1, 19.1, 17.2, 17.6, 18.8, 19.4, 17.8, 20.3, 19.5, 18.6,\n",
       "       19.2, 18.8, 18. , 18.1, 17.1, 18.1, 17.3, 18.9, 18.6, 18.5, 16.1,\n",
       "       18.5, 17.9, 20. , 16. , 20. , 18.6, 18.9, 17.2, 20. , 17. , 19. ,\n",
       "       16.5, 20.3, 17.7, 19.5, 20.7, 18.3, 17. , 20.5, 17. , 18.6, 17.2,\n",
       "       19.8, 17. , 18.5, 15.9, 19. , 17.6, 18.3, 17.1, 18. , 17.9, 19.2,\n",
       "       18.5, 18.5, 17.6, 17.5, 17.5, 20.1, 16.5, 17.9, 17.1, 17.2, 15.5,\n",
       "       17. , 16.8, 18.7, 18.6, 18.4, 17.8, 18.1, 17.1, 18.5, 17.9, 19.5,\n",
       "       19.2, 18.7, 19.8, 17.8, 18.2, 18.2, 18.9, 19.9, 17.8, 20.3, 17.3,\n",
       "       18.1, 17.1, 19.6, 20. , 17.8, 18.6, 18.2, 17.3, 17.5, 16.6, 19.4,\n",
       "       17.9, 19. , 18.4, 19. , 17.8, 20. , 16.6, 20.8, 16.7, 18.8, 18.6,\n",
       "       16.8, 18.3, 20.7, 16.6, 19.9, 19.5, 17.5, 19.1, 17. , 17.9, 18.5,\n",
       "       17.9, 19.6, 18.7, 17.3, 16.4, 19. , 17.3, 19.7, 17.3, 18.8, 16.6,\n",
       "       19.9, 18.8, 19.4, 19.5, 16.5, 17. , 19.8, 18.1, 18.2, 19. , 18.7,\n",
       "       13.2, 16.3, 14.1, 15.2, 14.5, 13.5, 14.6, 15.3, 13.4, 15.4, 13.7,\n",
       "       16.1, 13.7, 14.6, 14.6, 15.7, 13.5, 15.2, 14.5, 15.1, 14.3, 14.5,\n",
       "       14.5, 15.8, 13.1, 15.1, 14.3, 15. , 14.3, 15.3, 15.3, 14.2, 14.5,\n",
       "       17. , 14.8, 16.3, 13.7, 17.3, 13.6, 15.7, 13.7, 16. , 13.7, 15. ,\n",
       "       15.9, 13.9, 13.9, 15.9, 13.3, 15.8, 14.2, 14.1, 14.4, 15. , 14.4,\n",
       "       15.4, 13.9, 15. , 14.5, 15.3, 13.8, 14.9, 13.9, 15.7, 14.2, 16.8,\n",
       "       14.4, 16.2, 14.2, 15. , 15. , 15.6, 15.6, 14.8, 15. , 16. , 14.2,\n",
       "       16.3, 13.8, 16.4, 14.5, 15.6, 14.6, 15.9, 13.8, 17.3, 14.4, 14.2,\n",
       "       14. , 17. , 15. , 17.1, 14.5, 16.1, 14.7, 15.7, 15.8, 14.6, 14.4,\n",
       "       16.5, 15. , 17. , 15.5, 15. , 13.8, 16.1, 14.7, 15.8, 14. , 15.1,\n",
       "       15.2, 15.9, 15.2, 16.3, 14.1, 16. , 15.7, 16.2, 13.7,  nan, 14.3,\n",
       "       15.7, 14.8, 16.1])"
      ]
     },
     "execution_count": 125,
     "metadata": {},
     "output_type": "execute_result"
    }
   ],
   "source": [
    "# Get the bill depth.\n",
    "bdepth = df['bill_depth_mm'].to_numpy()\n",
    "\n",
    "# Show.\n",
    "bdepth\n"
   ]
  },
  {
   "cell_type": "markdown",
   "metadata": {},
   "source": [
    "### 7.4 Body mass in gram."
   ]
  },
  {
   "cell_type": "code",
   "execution_count": 126,
   "metadata": {},
   "outputs": [
    {
     "name": "stdout",
     "output_type": "stream",
     "text": [
      "[3750. 3800. 3250.   nan 3450. 3650. 3625. 4675. 3475. 4250. 3300. 3700.\n",
      " 3200. 3800. 4400. 3700. 3450. 4500. 3325. 4200. 3400. 3600. 3800. 3950.\n",
      " 3800. 3800. 3550. 3200. 3150. 3950. 3250. 3900. 3300. 3900. 3325. 4150.\n",
      " 3950. 3550. 3300. 4650. 3150. 3900. 3100. 4400. 3000. 4600. 3425. 2975.\n",
      " 3450. 4150. 3500. 4300. 3450. 4050. 2900. 3700. 3550. 3800. 2850. 3750.\n",
      " 3150. 4400. 3600. 4050. 2850. 3950. 3350. 4100. 3050. 4450. 3600. 3900.\n",
      " 3550. 4150. 3700. 4250. 3700. 3900. 3550. 4000. 3200. 4700. 3800. 4200.\n",
      " 3350. 3550. 3800. 3500. 3950. 3600. 3550. 4300. 3400. 4450. 3300. 4300.\n",
      " 3700. 4350. 2900. 4100. 3725. 4725. 3075. 4250. 2925. 3550. 3750. 3900.\n",
      " 3175. 4775. 3825. 4600. 3200. 4275. 3900. 4075. 2900. 3775. 3350. 3325.\n",
      " 3150. 3500. 3450. 3875. 3050. 4000. 3275. 4300. 3050. 4000. 3325. 3500.\n",
      " 3500. 4475. 3425. 3900. 3175. 3975. 3400. 4250. 3400. 3475. 3050. 3725.\n",
      " 3000. 3650. 4250. 3475. 3450. 3750. 3700. 4000. 3500. 3900. 3650. 3525.\n",
      " 3725. 3950. 3250. 3750. 4150. 3700. 3800. 3775. 3700. 4050. 3575. 4050.\n",
      " 3300. 3700. 3450. 4400. 3600. 3400. 2900. 3800. 3300. 4150. 3400. 3800.\n",
      " 3700. 4550. 3200. 4300. 3350. 4100. 3600. 3900. 3850. 4800. 2700. 4500.\n",
      " 3950. 3650. 3550. 3500. 3675. 4450. 3400. 4300. 3250. 3675. 3325. 3950.\n",
      " 3600. 4050. 3350. 3450. 3250. 4050. 3800. 3525. 3950. 3650. 3650. 4000.\n",
      " 3400. 3775. 4100. 3775. 4500. 5700. 4450. 5700. 5400. 4550. 4800. 5200.\n",
      " 4400. 5150. 4650. 5550. 4650. 5850. 4200. 5850. 4150. 6300. 4800. 5350.\n",
      " 5700. 5000. 4400. 5050. 5000. 5100. 4100. 5650. 4600. 5550. 5250. 4700.\n",
      " 5050. 6050. 5150. 5400. 4950. 5250. 4350. 5350. 3950. 5700. 4300. 4750.\n",
      " 5550. 4900. 4200. 5400. 5100. 5300. 4850. 5300. 4400. 5000. 4900. 5050.\n",
      " 4300. 5000. 4450. 5550. 4200. 5300. 4400. 5650. 4700. 5700. 4650. 5800.\n",
      " 4700. 5550. 4750. 5000. 5100. 5200. 4700. 5800. 4600. 6000. 4750. 5950.\n",
      " 4625. 5450. 4725. 5350. 4750. 5600. 4600. 5300. 4875. 5550. 4950. 5400.\n",
      " 4750. 5650. 4850. 5200. 4925. 4875. 4625. 5250. 4850. 5600. 4975. 5500.\n",
      " 4725. 5500. 4700. 5500. 4575. 5500. 5000. 5950. 4650. 5500. 4375. 5850.\n",
      " 4875. 6000. 4925.   nan 4850. 5750. 5200. 5400.]\n",
      "<class 'numpy.ndarray'>\n"
     ]
    }
   ],
   "source": [
    "# Get the body mass in gram.\n",
    "bmass = df['body_mass_g'].to_numpy()\n",
    "\n",
    "# Show.\n",
    "print(bmass)\n",
    "\n",
    "# Type.\n",
    "print(type(bmass))"
   ]
  },
  {
   "cell_type": "markdown",
   "metadata": {},
   "source": [
    "It is important to remark that all arrays do also have ***NaN*** values. \n",
    "Let's start analyzing a bit.\n",
    "\n",
    "## 8. Visualization of Palmer penguins data.\n",
    "### 8.1 Body mass of the three species in a histogram:\n"
   ]
  },
  {
   "cell_type": "code",
   "execution_count": 127,
   "metadata": {},
   "outputs": [
    {
     "data": {
      "image/png": "[encoded data removed]",
      "text/plain": [
       "<Figure size 640x480 with 1 Axes>"
      ]
     },
     "metadata": {},
     "output_type": "display_data"
    }
   ],
   "source": [
    "# Create histogram.\n",
    "\n",
    "plt.hist([df[df['species'] == 'Adelie']['body_mass_g'],\n",
    "          df[df['species'] == 'Chinstrap']['body_mass_g'],\n",
    "          df[df['species'] == 'Gentoo']['body_mass_g']],\n",
    "         bins=10, stacked=False, color=['green', 'blue', 'orange'],\n",
    "         alpha=0.8, label=['Adelie', 'Chinstrap', 'Gentoo'])\n",
    "\n",
    "# Set labels and title\n",
    "plt.xlabel('Body mass (g)')\n",
    "plt.ylabel('Count')\n",
    "plt.title('Body mass for Adelie, Chinstrap & Gentoo penguins')\n",
    "\n",
    "# Add legend.\n",
    "plt.legend()\n",
    "\n",
    "# Show plot.\n",
    "plt.show()"
   ]
  },
  {
   "cell_type": "markdown",
   "metadata": {},
   "source": [
    "The Gentoo penguin is the heaviest and largest of the three species, whereas Adelie and Chinstrap are fairly similar in size, though a significantly higher number of samples were taken from the Adelie species. So let's have a look where samples were taken: "
   ]
  },
  {
   "cell_type": "markdown",
   "metadata": {},
   "source": [
    "### 8.2 Quantities of samples taken on each island:"
   ]
  },
  {
   "cell_type": "code",
   "execution_count": 128,
   "metadata": {},
   "outputs": [
    {
     "data": {
      "image/png": "[encoded data removed]",
      "text/plain": [
       "<Figure size 640x480 with 1 Axes>"
      ]
     },
     "metadata": {},
     "output_type": "display_data"
    }
   ],
   "source": [
    "# Grouping the data by both species and islands\n",
    "grouped_data = df.groupby(['species', 'island'])['body_mass_g'].count().unstack()\n",
    "\n",
    "# Transpose the grouped data\n",
    "grouped_data = grouped_data.T\n",
    "\n",
    "# Plotting a stacked bar chart\n",
    "grouped_data.plot(kind='bar', stacked=False, color=['green', 'blue', 'orange'])\n",
    "\n",
    "# Set labels and title\n",
    "plt.xlabel('Island')\n",
    "plt.ylabel('Count')\n",
    "plt.title('Adelie, Chinstrap & Gentoo penguins by island')\n",
    "\n",
    "# Add legend\n",
    "plt.legend(title='Species')\n",
    "\n",
    "# Show plot\n",
    "plt.show()\n"
   ]
  },
  {
   "cell_type": "markdown",
   "metadata": {},
   "source": [
    "Between 40 and 60 Adelie samples were taken on all three Islands what makes it the species with the highest number of samples available, whereas for the Chinstrap species samples were taken at Dream island and for Gentoo at Biscoe only but the samples count for Gentoo is significantly higher. It also appears that going by number of samples taken, the Gentoo species is the most abundant at Biscoe Island and Chinstrap penguins are only found at Dream. This has also been explored by Allison Horst [here](https://allisonhorst.github.io/palmerpenguins/articles/intro.html#highlights)."
   ]
  },
  {
   "cell_type": "markdown",
   "metadata": {},
   "source": [
    "Last but not least, let's have a look at the penguin attributes by species:"
   ]
  },
  {
   "cell_type": "markdown",
   "metadata": {},
   "source": [
    "### 8.3 Penguin attributes by species:"
   ]
  },
  {
   "cell_type": "code",
   "execution_count": 129,
   "metadata": {},
   "outputs": [
    {
     "data": {
      "image/png": "[encoded data removed]",
      "text/plain": [
       "<Figure size 640x480 with 1 Axes>"
      ]
     },
     "metadata": {},
     "output_type": "display_data"
    }
   ],
   "source": [
    "# Creating a grouped bar chart (https://matplotlib.org/stable/gallery/lines_bars_and_markers/barchart.html#grouped-bar-chart-with-labels).\n",
    "\n",
    "species = (\"Adelie\", \"Chinstrap\", \"Gentoo\")\n",
    "penguin_means = {\n",
    "    'Bill Depth': (18.35, 18.43, 14.98),\n",
    "    'Bill Length': (38.79, 48.83, 47.50),\n",
    "    'Flipper Length': (189.95, 195.82, 217.19),\n",
    "}\n",
    "\n",
    "x = np.arange(len(species))  # the label locations.\n",
    "width = 0.25  # width of the bars.\n",
    "multiplier = 0\n",
    "\n",
    "fig, ax = plt.subplots(layout='constrained')\n",
    "\n",
    "for attribute, measurement in penguin_means.items():\n",
    "    offset = width * multiplier\n",
    "    rects = ax.bar(x + offset, measurement, width, label=attribute)\n",
    "    ax.bar_label(rects, padding=3)\n",
    "    multiplier += 1\n",
    "\n",
    "# Add some text for labels, title and custom x-axis tick labels, etc.\n",
    "ax.set_ylabel('Length (mm)')\n",
    "ax.set_title('Penguin attributes by species')\n",
    "ax.set_xticks(x + width, species)\n",
    "ax.legend(loc='upper left', ncols=3)\n",
    "ax.set_ylim(0, 250)\n",
    "\n",
    "plt.show()"
   ]
  },
  {
   "cell_type": "markdown",
   "metadata": {},
   "source": [
    "When looking at penguin attributes by species we can finally conclude that ***proportionally and relative*** to their weight and assumingly body size, the Gentoo species have smaller flipper and bills altogether. The Gentoo bill depth is even the smallest of the three despite having the haviest or largest bodies overall."
   ]
  },
  {
   "cell_type": "markdown",
   "metadata": {},
   "source": [
    "## 9. Two variable plots. \n",
    "### 9.1 Bill length vs bill depth:"
   ]
  },
  {
   "cell_type": "code",
   "execution_count": 130,
   "metadata": {},
   "outputs": [
    {
     "data": {
      "text/plain": [
       "Text(0.5, 1.0, 'Palmer Penguins Data Set')"
      ]
     },
     "execution_count": 130,
     "metadata": {},
     "output_type": "execute_result"
    },
    {
     "data": {
      "image/png": "[encoded data removed]",
      "text/plain": [
       "<Figure size 640x480 with 1 Axes>"
      ]
     },
     "metadata": {},
     "output_type": "display_data"
    }
   ],
   "source": [
    "# Define colors for each species by creating dictionary.\n",
    "colors = {'Adelie': 'green', 'Gentoo': 'orange', 'Chinstrap': 'blue'}\n",
    "\n",
    "# Create a new figure and set of axes.\n",
    "fig, ax = plt.subplots(1, 1)\n",
    "\n",
    "# Plot the data points with color coding based on species.\n",
    "for i in range(len(bdepth)):\n",
    "    species_color = colors[df['species'][i]] if df['species'][i] in colors else 'k'  # Access species column\n",
    "    ax.plot(bdepth[i], blength[i], 'o', c=species_color)\n",
    "\n",
    "# It's a common convention in programming to use 'k' to represent black and 'i'(index) as loop variable.\n",
    "\n",
    "# Axis labels.\n",
    "ax.set_xlabel('Bill Depth (mm) ')\n",
    "ax.set_ylabel('Bill Length (mm) ')\n",
    "\n",
    "# Add legend to upper left: loc='upper left'.\n",
    "legend_elements = [plt.Line2D([0], [0], marker='o', color='w', label='Adelie', markerfacecolor='green', markersize=10),\n",
    "                   plt.Line2D([0], [0], marker='o', color='w', label='Gentoo', markerfacecolor='orange', markersize=10),\n",
    "                   plt.Line2D([0], [0], marker='o', color='w', label='Chinstrap', markerfacecolor='blue', markersize=10)]\n",
    "ax.legend(handles=legend_elements, loc='upper left')\n",
    "\n",
    "# Title.\n",
    "ax.set_title('Palmer Penguins Data Set')\n",
    "\n",
    "\n"
   ]
  },
  {
   "cell_type": "markdown",
   "metadata": {},
   "source": [
    "When plotting bill length & depth against each other only, it clearly corroborates what we analyzed in the figure above: Both Adelie and Chinstrap penguins do have bill similar in depth but bill depth for the larger (body size) Gentoo species is smaller. When looking at length however, Chinstrap and Gentoo are similar wheras the Adelie bills are overall shorter. So what does it look like when we compare flipper length with body mass?:"
   ]
  },
  {
   "cell_type": "markdown",
   "metadata": {},
   "source": [
    "### 9.2 Flipper length vs. body mass:"
   ]
  },
  {
   "cell_type": "code",
   "execution_count": 131,
   "metadata": {},
   "outputs": [
    {
     "data": {
      "text/plain": [
       "Text(0.5, 1.0, 'Body mass vs flipper length')"
      ]
     },
     "execution_count": 131,
     "metadata": {},
     "output_type": "execute_result"
    },
    {
     "data": {
      "image/png": "[encoded data removed]",
      "text/plain": [
       "<Figure size 640x480 with 1 Axes>"
      ]
     },
     "metadata": {},
     "output_type": "display_data"
    }
   ],
   "source": [
    "# Define colors for each species by creating dictionary.\n",
    "colors = {'Adelie': 'green', 'Gentoo': 'orange', 'Chinstrap': 'blue'}\n",
    "\n",
    "# Create a new figure and set of axes.\n",
    "fig, ax = plt.subplots(1, 1)\n",
    "\n",
    "# Plot the data points with color coding based on species.\n",
    "for i in range(len(flen)):\n",
    "    species_color = colors[df['species'][i]] if df['species'][i] in colors else 'k'  # Access species column / # It's a common convention in programming to use 'k' to represent black and 'i'(index) as loop variable.\n",
    "    ax.plot(flen[i], bmass[i], 'o', c=species_color)\n",
    "\n",
    "# Axis labels.\n",
    "ax.set_xlabel('Flipper length (mm) ')\n",
    "ax.set_ylabel('Body mass (g) ')\n",
    "\n",
    "# Add legend.\n",
    "legend_elements = [plt.Line2D([0], [0], marker='o', color='w', label='Adelie', markerfacecolor='green', markersize=10),\n",
    "                   plt.Line2D([0], [0], marker='o', color='w', label='Gentoo', markerfacecolor='orange', markersize=10),\n",
    "                   plt.Line2D([0], [0], marker='o', color='w', label='Chinstrap', markerfacecolor='blue', markersize=10)]\n",
    "ax.legend(handles=legend_elements, loc='upper left')\n",
    "\n",
    "# Title.\n",
    "ax.set_title('Body mass vs flipper length')\n",
    "\n"
   ]
  },
  {
   "cell_type": "markdown",
   "metadata": {},
   "source": [
    "This plot concludes that the larger the body mass, flipper length increases, too, what leads to the question how body mass & flipper length do correlate to each other mathematically? As explored in week 8's lecture of this module, let's start with a best fit line on the visualization based on the following formula:"
   ]
  },
  {
   "cell_type": "markdown",
   "metadata": {},
   "source": [
    "## 10. Add best fit line.\n",
    "$ y = mx + c = p_1 x^1 = p_0 = p_1 x + p_0$"
   ]
  },
  {
   "cell_type": "markdown",
   "metadata": {},
   "source": [
    "### 10.1 Remove NaN values.\n",
    "As discovered in 7, there are NaN values in all numpy arrays. To be able to carry out the next operation, the need to be removed from the array:"
   ]
  },
  {
   "cell_type": "code",
   "execution_count": 132,
   "metadata": {},
   "outputs": [],
   "source": [
    "# Remove NaN values from both arrays simultaneously.\n",
    "bmass_cleaned = bmass[~np.isnan(bmass)]\n",
    "flen_cleaned = flen[~np.isnan(flen)]"
   ]
  },
  {
   "cell_type": "markdown",
   "metadata": {},
   "source": [
    "### 10.2 Fit straight line between X and Y.\n",
    "This will generate numbers for m & c."
   ]
  },
  {
   "cell_type": "code",
   "execution_count": 133,
   "metadata": {},
   "outputs": [
    {
     "data": {
      "text/plain": [
       "(0.015275915608037283, 136.729559272662)"
      ]
     },
     "execution_count": 133,
     "metadata": {},
     "output_type": "execute_result"
    }
   ],
   "source": [
    "# Remove NaN values from both arrays simultaneously.\n",
    "bmass_cleaned = bmass[~np.isnan(bmass)]\n",
    "flen_cleaned = flen[~np.isnan(flen)]\n",
    "\n",
    "# Fit a straight line between x and y.\n",
    "m, c = np.polyfit(bmass_cleaned, flen_cleaned, 1)\n",
    "\n",
    "# Show m & c\n",
    "m, c\n",
    "\n"
   ]
  },
  {
   "cell_type": "markdown",
   "metadata": {},
   "source": [
    "### 10.3 np.linspace.\n",
    "Now that we have the numbers for m & c we do need to create x and y values in order to plot best fit line on top of the figure above. This can be achieved by using np.linspace for the X axis and array of 100 evenly spaced numbers between the min & max of flen_cleaned. For Y axis we apply formula m * bf_x + c. "
   ]
  },
  {
   "cell_type": "code",
   "execution_count": 134,
   "metadata": {},
   "outputs": [],
   "source": [
    "# X values for best fit line.\n",
    "bf_x = np.linspace(min(flen_cleaned), max(flen_cleaned), 100) # 100 for 100 evenly spaced numbers between min & max.\n",
    "\n",
    "# Y values for best fit line.\n",
    "bf_y = m * bf_x + c\n"
   ]
  },
  {
   "cell_type": "markdown",
   "metadata": {},
   "source": [
    "### 10.4 Plot best fit line on top of figure."
   ]
  },
  {
   "cell_type": "code",
   "execution_count": 135,
   "metadata": {},
   "outputs": [
    {
     "data": {
      "image/png": "[encoded data removed]",
      "text/plain": [
       "<Figure size 640x480 with 1 Axes>"
      ]
     },
     "metadata": {},
     "output_type": "display_data"
    }
   ],
   "source": [
    "# Define colors for each species by creating dictionary.\n",
    "colors = {'Adelie': 'green', 'Gentoo': 'orange', 'Chinstrap': 'blue'}\n",
    "\n",
    "# Create a new figure and set of axes.\n",
    "fig, ax = plt.subplots(1, 1)\n",
    "\n",
    "# Simple Plot.\n",
    "ax.plot(flen_cleaned, bmass_cleaned, 'o')   # Displays as 'Os'.\n",
    "\n",
    "# Plot the data points with color coding based on species.\n",
    "for i in range(len(flen)):\n",
    "    species_color = colors[df['species'][i]] if df['species'][i] in colors else 'k'  # Access species column / it's a common convention in programming to use 'k' to represent black and 'i'(index) as loop variable.\n",
    "    ax.plot(flen[i], bmass[i], 'o', c=species_color)\n",
    "\n",
    "# Compute the best fit line.\n",
    "m, c = np.polyfit(flen_cleaned, bmass_cleaned, 1)\n",
    "bf_x = np.linspace(min(flen_cleaned), max(flen_cleaned), 100)\n",
    "bf_y = m * bf_x + c\n",
    "\n",
    "# Plot the best fit line.\n",
    "ax.plot(bf_x, bf_y, 'r-', label='Best Fit Line')  # r is for red, - dash for line\n",
    "\n",
    "# Axis labels.\n",
    "ax.set_xlabel('Flipper length (mm) ')\n",
    "ax.set_ylabel('Body mass (g) ')\n",
    "\n",
    "# Add legend to upper left, see below: loc = upper left.\n",
    "legend_elements = [plt.Line2D([0], [0], marker='o', color='w', label='Adelie', markerfacecolor='green', markersize=10),\n",
    "                   plt.Line2D([0], [0], marker='o', color='w', label='Gentoo', markerfacecolor='orange', markersize=10),\n",
    "                   plt.Line2D([0], [0], marker='o', color='w', label='Chinstrap', markerfacecolor='blue', markersize=10)]\n",
    "ax.legend(handles=legend_elements, loc='upper left')\n",
    "\n",
    "# Title.\n",
    "ax.set_title('Body mass vs flipper length')\n",
    "\n",
    "# Show the plot.\n",
    "plt.show()\n"
   ]
  },
  {
   "cell_type": "markdown",
   "metadata": {},
   "source": [
    "As stated in 9.2 in this plot clearly indicated by the red line, as body mass increases so does flipper length. This is true for all three species."
   ]
  },
  {
   "cell_type": "markdown",
   "metadata": {},
   "source": [
    "## 11. Correlation coefficient.\n",
    "Let's analyse the correlation between body mass & flipper length:"
   ]
  },
  {
   "cell_type": "code",
   "execution_count": 136,
   "metadata": {},
   "outputs": [
    {
     "name": "stdout",
     "output_type": "stream",
     "text": [
      "Correlation coefficient between body mass and flipper length (excluding NaN values): 0.871201767306011\n"
     ]
    }
   ],
   "source": [
    "# Combine bmass_cleaned and flen_cleaned into a 2D array.\n",
    "data = np.array([bmass_cleaned, flen_cleaned])\n",
    "\n",
    "# Measure the correlation\n",
    "correlation_coefficient_matrix = np.corrcoef(data)\n",
    "\n",
    "# Extract the correlation coefficient between body mass and flipper length from the correlation matrix.\n",
    "correlation_coefficient = correlation_coefficient_matrix[0, 1]\n",
    "\n",
    "print(\"Correlation coefficient between body mass and flipper length (excluding NaN values):\", correlation_coefficient)\n"
   ]
  },
  {
   "cell_type": "markdown",
   "metadata": {},
   "source": [
    "Correlation coefficient between body mass and flipper length of approximately 0.871 suggests a strong positive relationship between these two variables in the Palmer Penguins dataset\n",
    "as the correlation coefficient value ranges from -1 to 1, what means a value closer to 1 indicates a strong positive correlation, while a value closer to -1 indicates a strong negative correlation. \n",
    "\n",
    "In this case, a positive correlation means that as one variable, body mass increases, the other variable, flipper length tends to increase as well. So we can conclude that with a correlation coefficient of approximately 0.871, there is a strong tendency for penguins with higher body masses to also have longer flipper lengths. This fact has been clearly visualized in preceeding plot."
   ]
  },
  {
   "cell_type": "markdown",
   "metadata": {},
   "source": [
    "***\n",
    "## 12. Further reading and references\n",
    "\n",
    "Horst AM, Hill AP, Gorman KB (2020). palmerpenguins: Palmer Archipelago (Antarctica) penguin data. R package version 0.1.0. https://allisonhorst.github.io/palmerpenguins/\n",
    "\n",
    "An introductory dataset presented as an alternative to Iris and useful for teaching data exploration/visualization. Data comes from 3 penguin species in the islands of Palmer Archipelago, Antarctica https://archive.ics.uci.edu/dataset/690/palmer+penguins-3\n",
    "\n",
    "https://github.com/mwaskom/seaborn-data/bob/master/penguins.csv\n",
    "\n",
    "Brad Solomon (2020), Python Plotting With Matplotlib (Guide) https://realpython.com/python-matplotlib-guide/#understanding-pltsubplots-notation\n",
    "\n",
    "Ceasr Aguilar, Starting With Linear Regression in Python https://realpython.com/lessons/simple-linear-regression-code/\n",
    "\n",
    "John Sturtz (2019), Python \"for\" Loops https://realpython.com/python-for-loop/\n",
    "\n",
    "Zach Bobbitt (2021), How to Plot Line of Best Fit in Python https://www.statology.org/line-of-best-fit-python/\n",
    "\n",
    "**Wikipedia:**\n",
    "\n",
    "https://en.wikipedia.org/wiki/Pearson_correlation_coefficient\n",
    "\n",
    "**Matplotlib.org documentation:**\n",
    "\n",
    "Plot 2D data on 3D plot https://matplotlib.org/stable/gallery/mplot3d/2dcollections3d.html#sphx-glr-gallery-mplot3d-2dcollections3d-py\n",
    "\n",
    "Grouped bar chart with labels https://matplotlib.org/stable/gallery/lines_bars_and_markers/barchart.html#grouped-bar-chart-with-labels\n",
    "\n",
    "**NumPy.org documentation:**\n",
    "\n",
    "numpy.corrcoef https://numpy.org/doc/stable/reference/generated/numpy.corrcoef.html\n",
    "\n",
    "numpy.polyfit https://numpy.org/doc/stable/reference/generated/numpy.polyfit.html\n",
    "\n",
    "**Pandas.pydata.org documentation:**\n",
    "\n",
    "Drop Nan values from dataset https://pandas.pydata.org/pandas-docs/stable/reference/api/pandas.DataFrame.dropna.html\n",
    "\n",
    "pandas.DataFrame https://pandas.pydata.org/docs/reference/frame.html\n",
    "\n",
    "pandas.DataFrame describe https://pandas.pydata.org/pandas-docs/stable/reference/api/pandas.DataFrame.describe.html\n",
    "\n",
    "pandas.DataFrame groupby https://pandas.pydata.org/pandas-docs/stable/reference/api/pandas.DataFrame.groupby.html\n",
    "\n",
    "**Geeksforgeeks.org:**\n",
    "\n",
    "https://www.geeksforgeeks.org/bar-plot-in-matplotlib/\n",
    "\n",
    "https://www.geeksforgeeks.org/plotting-histogram-in-python-using-matplotlib/\n",
    "\n",
    "https://www.geeksforgeeks.org/matplotlib-pyplot-hist-in-python/\n",
    "\n",
    "**Additional sources:**\n",
    "\n",
    "Imputation of missing values https://scikit-learn.org/stable/modules/impute.html\n",
    "\n",
    "The impact of NaN values on Pearson correlation https://pythonhint.com/post/6173294532526709/pearson-correlation-and-nan-values\n",
    "\n",
    "How do I remove NaN values from a NumPy array? https://stackoverflow.com/questions/11620914/how-do-i-remove-nan-values-from-a-numpy-array#11620982\n",
    "\n",
    "NumPy: Remove all rows in a NumPy array that contain non-numeric values https://www.w3resource.com/python-exercises/numpy/python-numpy-exercise-91.php\n",
    "\n"
   ]
  },
  {
   "cell_type": "markdown",
   "metadata": {},
   "source": [
    "***\n",
    "\n",
    "# End."
   ]
  }
 ],
 "metadata": {
  "kernelspec": {
   "display_name": "base",
   "language": "python",
   "name": "python3"
  },
  "language_info": {
   "codemirror_mode": {
    "name": "ipython",
    "version": 3
   },
   "file_extension": ".py",
   "mimetype": "text/x-python",
   "name": "python",
   "nbconvert_exporter": "python",
   "pygments_lexer": "ipython3",
   "version": "3.11.5"
  }
 },
 "nbformat": 4,
 "nbformat_minor": 2
}
